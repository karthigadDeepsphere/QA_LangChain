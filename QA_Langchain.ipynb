{
  "nbformat": 4,
  "nbformat_minor": 0,
  "metadata": {
    "colab": {
      "provenance": [],
      "authorship_tag": "ABX9TyOzrSeozOPO15ZbzobQRdJ5",
      "include_colab_link": true
    },
    "kernelspec": {
      "name": "python3",
      "display_name": "Python 3"
    },
    "language_info": {
      "name": "python"
    }
  },
  "cells": [
    {
      "cell_type": "markdown",
      "metadata": {
        "id": "view-in-github",
        "colab_type": "text"
      },
      "source": [
        "<a href=\"https://colab.research.google.com/github/karthigadDeepsphere/QA_LangChain/blob/main/QA_Langchain.ipynb\" target=\"_parent\"><img src=\"https://colab.research.google.com/assets/colab-badge.svg\" alt=\"Open In Colab\"/></a>"
      ]
    },
    {
      "cell_type": "code",
      "execution_count": null,
      "metadata": {
        "id": "ezMVwLxC19Uv"
      },
      "outputs": [],
      "source": [
        "import os\n",
        "os.environ[\"OPENAI_API_KEY\"] = \"Replace it with OpenAI API Key\"\n",
        "os.getenv('OPENAI_API_KEY')"
      ]
    },
    {
      "cell_type": "code",
      "source": [
        "!pip install langchain"
      ],
      "metadata": {
        "id": "-pHOcYNa3uhW"
      },
      "execution_count": null,
      "outputs": []
    },
    {
      "cell_type": "code",
      "source": [
        "!pip install pypdf"
      ],
      "metadata": {
        "colab": {
          "base_uri": "https://localhost:8080/"
        },
        "id": "dxpevQSF50K7",
        "outputId": "bc2be2b5-b43b-4ef1-918d-5686498575c3"
      },
      "execution_count": 4,
      "outputs": [
        {
          "output_type": "stream",
          "name": "stdout",
          "text": [
            "Collecting pypdf\n",
            "  Downloading pypdf-3.17.4-py3-none-any.whl (278 kB)\n",
            "\u001b[?25l     \u001b[90m━━━━━━━━━━━━━━━━━━━━━━━━━━━━━━━━━━━━━━━━\u001b[0m \u001b[32m0.0/278.2 kB\u001b[0m \u001b[31m?\u001b[0m eta \u001b[36m-:--:--\u001b[0m\r\u001b[2K     \u001b[90m━━━━━━━━━━━━━━━━━━━━━━━━━━━━━━━━━━━━━━━━\u001b[0m \u001b[32m278.2/278.2 kB\u001b[0m \u001b[31m8.2 MB/s\u001b[0m eta \u001b[36m0:00:00\u001b[0m\n",
            "\u001b[?25hInstalling collected packages: pypdf\n",
            "Successfully installed pypdf-3.17.4\n"
          ]
        }
      ]
    },
    {
      "cell_type": "code",
      "source": [
        "!pip install openai"
      ],
      "metadata": {
        "id": "FZJK6O0gErmi"
      },
      "execution_count": null,
      "outputs": []
    },
    {
      "cell_type": "code",
      "source": [
        "!pip install --upgrade openai"
      ],
      "metadata": {
        "id": "C-cR_-4kEsHb"
      },
      "execution_count": null,
      "outputs": []
    },
    {
      "cell_type": "code",
      "source": [
        "!pip install tiktoken"
      ],
      "metadata": {
        "colab": {
          "base_uri": "https://localhost:8080/"
        },
        "id": "lgHLUYtpExJr",
        "outputId": "59c9744b-1bd7-4750-8039-f1f14cad5d10"
      },
      "execution_count": 6,
      "outputs": [
        {
          "output_type": "stream",
          "name": "stdout",
          "text": [
            "Collecting tiktoken\n",
            "  Downloading tiktoken-0.5.2-cp310-cp310-manylinux_2_17_x86_64.manylinux2014_x86_64.whl (2.0 MB)\n",
            "\u001b[?25l     \u001b[90m━━━━━━━━━━━━━━━━━━━━━━━━━━━━━━━━━━━━━━━━\u001b[0m \u001b[32m0.0/2.0 MB\u001b[0m \u001b[31m?\u001b[0m eta \u001b[36m-:--:--\u001b[0m\r\u001b[2K     \u001b[91m━━━━━━\u001b[0m\u001b[90m╺\u001b[0m\u001b[90m━━━━━━━━━━━━━━━━━━━━━━━━━━━━━━━━━\u001b[0m \u001b[32m0.3/2.0 MB\u001b[0m \u001b[31m9.3 MB/s\u001b[0m eta \u001b[36m0:00:01\u001b[0m\r\u001b[2K     \u001b[91m━━━━━━━━━━━━━━━━━━\u001b[0m\u001b[91m╸\u001b[0m\u001b[90m━━━━━━━━━━━━━━━━━━━━━\u001b[0m \u001b[32m0.9/2.0 MB\u001b[0m \u001b[31m13.5 MB/s\u001b[0m eta \u001b[36m0:00:01\u001b[0m\r\u001b[2K     \u001b[91m━━━━━━━━━━━━━━━━━━━━━━━━━━━━━━━━\u001b[0m\u001b[91m╸\u001b[0m\u001b[90m━━━━━━━\u001b[0m \u001b[32m1.6/2.0 MB\u001b[0m \u001b[31m15.9 MB/s\u001b[0m eta \u001b[36m0:00:01\u001b[0m\r\u001b[2K     \u001b[90m━━━━━━━━━━━━━━━━━━━━━━━━━━━━━━━━━━━━━━━━\u001b[0m \u001b[32m2.0/2.0 MB\u001b[0m \u001b[31m15.5 MB/s\u001b[0m eta \u001b[36m0:00:00\u001b[0m\n",
            "\u001b[?25hRequirement already satisfied: regex>=2022.1.18 in /usr/local/lib/python3.10/dist-packages (from tiktoken) (2023.6.3)\n",
            "Requirement already satisfied: requests>=2.26.0 in /usr/local/lib/python3.10/dist-packages (from tiktoken) (2.31.0)\n",
            "Requirement already satisfied: charset-normalizer<4,>=2 in /usr/local/lib/python3.10/dist-packages (from requests>=2.26.0->tiktoken) (3.3.2)\n",
            "Requirement already satisfied: idna<4,>=2.5 in /usr/local/lib/python3.10/dist-packages (from requests>=2.26.0->tiktoken) (3.6)\n",
            "Requirement already satisfied: urllib3<3,>=1.21.1 in /usr/local/lib/python3.10/dist-packages (from requests>=2.26.0->tiktoken) (2.0.7)\n",
            "Requirement already satisfied: certifi>=2017.4.17 in /usr/local/lib/python3.10/dist-packages (from requests>=2.26.0->tiktoken) (2023.11.17)\n",
            "Installing collected packages: tiktoken\n",
            "\u001b[31mERROR: pip's dependency resolver does not currently take into account all the packages that are installed. This behaviour is the source of the following dependency conflicts.\n",
            "llmx 0.0.15a0 requires cohere, which is not installed.\u001b[0m\u001b[31m\n",
            "\u001b[0mSuccessfully installed tiktoken-0.5.2\n"
          ]
        }
      ]
    },
    {
      "cell_type": "code",
      "source": [
        "!pip install chromadb"
      ],
      "metadata": {
        "id": "DYxGWfAjE3OB"
      },
      "execution_count": null,
      "outputs": []
    },
    {
      "cell_type": "code",
      "source": [
        "#importing Libraries\n",
        "from langchain.document_loaders import PyPDFLoader\n",
        "from langchain.llms import OpenAI\n",
        "from langchain.chains.question_answering import load_qa_chain\n",
        "from langchain.chains import RetrievalQA\n",
        "from langchain.indexes import VectorstoreIndexCreator\n",
        "from langchain.text_splitter import CharacterTextSplitter\n",
        "from langchain.embeddings import OpenAIEmbeddings\n",
        "from langchain.vectorstores import Chroma\n",
        "from langchain.chains import ConversationalRetrievalChain"
      ],
      "metadata": {
        "id": "fctcoKKuGbFe"
      },
      "execution_count": 11,
      "outputs": []
    },
    {
      "cell_type": "code",
      "source": [
        "#load document\n",
        "loaders = [\"/content/calPERS-change-retirement-systems.pdf\", \"/content/Frequently Asked Questions - CalPERS.pdf\"]\n",
        "documents=[]\n",
        "loader_pdf_list=[]\n",
        "for loader in loaders:\n",
        "  loader_pdf = PyPDFLoader(loader)\n",
        "  loader_pdf_list.append(loader_pdf)\n",
        "  documents.extend(loader_pdf.load())\n"
      ],
      "metadata": {
        "id": "4QgbpecF2sSS"
      },
      "execution_count": 12,
      "outputs": []
    },
    {
      "cell_type": "code",
      "source": [
        "def load_aq_chain(querys):\n",
        "  #Method- 1: Load_qa_chain\n",
        "\n",
        "  chain = load_qa_chain(llm=OpenAI(), chain_type = \"map_reduce\")\n",
        "  query = querys\n",
        "  # query = \"Can I add beneficiary to my retirement plan?\"\n",
        "  return chain.run(input_documents=documents, question=query)\n"
      ],
      "metadata": {
        "id": "aKtyYtOl6p-F"
      },
      "execution_count": 13,
      "outputs": []
    },
    {
      "cell_type": "code",
      "source": [
        "def retrieval_qa(queries):\n",
        "  #Method- 2: Retrieval QA\n",
        "\n",
        "  # split the documents into chunks\n",
        "  text_splitter = CharacterTextSplitter(chunk_size=1000, chunk_overlap=0)\n",
        "  texts = text_splitter.split_documents(documents)\n",
        "  # select which embeddings we want to use\n",
        "  embeddings = OpenAIEmbeddings()\n",
        "  # create the vectorestore to use as the index\n",
        "  db = Chroma.from_documents(texts, embeddings)\n",
        "  # expose this index in a retriever interface\n",
        "  retriever = db.as_retriever(search_type=\"similarity\", search_kwargs={\"k\":2})\n",
        "  # create a chain to answer questions\n",
        "  qa = RetrievalQA.from_chain_type(\n",
        "      llm=OpenAI(), chain_type=\"stuff\", retriever=retriever, return_source_documents=True)\n",
        "  # query = \"Can I add beneficiary to my retirement plan?\"\n",
        "  query = queries\n",
        "  result = qa({\"query\": query})\n",
        "  return result\n"
      ],
      "metadata": {
        "id": "R_7fUcm1ISoq"
      },
      "execution_count": 14,
      "outputs": []
    },
    {
      "cell_type": "code",
      "source": [
        "def vectorstore_index_creator(queries):\n",
        "  #Method- 3: VectorstoreIndexCreator\n",
        "  index = VectorstoreIndexCreator().from_loaders(loader_pdf_list)\n",
        "  # query = \"Can I add beneficiary to my retirement plan?\"\n",
        "  query = queries\n",
        "  return index.query(llm=OpenAI(), question=query, chain_type=\"stuff\")"
      ],
      "metadata": {
        "id": "vZ64Fc4rMmDc"
      },
      "execution_count": 15,
      "outputs": []
    },
    {
      "cell_type": "code",
      "source": [
        "def vectorstore_index_creator_wparams(queries):\n",
        "  index = VectorstoreIndexCreator(\n",
        "      text_splitter=CharacterTextSplitter(chunk_size=1000, chunk_overlap=0),\n",
        "      embedding=OpenAIEmbeddings(),\n",
        "      vectorstore_cls=Chroma\n",
        "  ).from_loaders(loader_pdf_list)\n",
        "  query = queries\n",
        "  # query = \"Can I add beneficiary to my retirement plan?\"\n",
        "  return index.query(llm=OpenAI(), question=query, chain_type=\"stuff\")\n"
      ],
      "metadata": {
        "id": "b4ZDkibDOxC2"
      },
      "execution_count": 33,
      "outputs": []
    },
    {
      "cell_type": "code",
      "source": [
        "#Method- 4: ConversationalRetrievalChain\n",
        "def conversational_retrieval_chain():\n",
        "\n",
        "  # loader = PyPDFLoader(\"/content/calPERS-change-retirement-systems.pdf\")\n",
        "  # documents=loader.load()\n",
        "  text_splitter = CharacterTextSplitter(chunk_size=1000, chunk_overlap=0)\n",
        "  texts=text_splitter.split_documents(documents)\n",
        "  embeddings=OpenAIEmbeddings()\n",
        "  db=Chroma.from_documents(texts, embeddings)\n",
        "  retriever=db.as_retriever(search_type=\"similarity\", search_kwargs={\"k\":2})\n",
        "  qa = ConversationalRetrievalChain.from_llm(OpenAI(), retriever)\n",
        "  return qa"
      ],
      "metadata": {
        "id": "h13pgVZNPuQ7"
      },
      "execution_count": 17,
      "outputs": []
    },
    {
      "cell_type": "code",
      "source": [
        "def conversational_retrieval_chain_result(queries, follow_question):\n",
        "  qa = conversational_retrieval_chain()\n",
        "  chat_history=[]\n",
        "  # query=\"Can I add beneficiary to my retirement plan?\"\n",
        "  query = queries\n",
        "  result_queries=qa({\"question\":query, \"chat_history\":chat_history})\n",
        "  result_queries[\"answer\"]\n",
        "  chat_history=[(query, result_queries[\"answer\"])]\n",
        "  # query=\"who are all can be the beneficiary?\"\n",
        "  query = follow_question\n",
        "  result_follow=qa({\"question\":query, \"chat_history\":chat_history})\n",
        "  result_follow[\"answer\"]\n",
        "  return result_queries[\"answer\"], result_follow[\"answer\"]\n"
      ],
      "metadata": {
        "id": "duVSJPPfh8B5"
      },
      "execution_count": 18,
      "outputs": []
    },
    {
      "cell_type": "code",
      "source": [
        "import warnings\n",
        "warnings.filterwarnings(\"ignore\", category=DeprecationWarning)"
      ],
      "metadata": {
        "id": "fwRlaeKn6Jzp"
      },
      "execution_count": 20,
      "outputs": []
    },
    {
      "cell_type": "code",
      "source": [
        "print('Question: Can I add beneficiary to my retirement plan?')\n",
        "print('Following is the response from different method')\n",
        "print('***********************\\n')\n",
        "query_method_1 = load_aq_chain('Can I add beneficiary to my retirement plan?')\n",
        "print('Load_aq_chain method:', query_method_1) #load aq chain method\n",
        "print('\\n')\n",
        "print('***********************\\n')\n",
        "query_method_2 = retrieval_qa('Can I add beneficiary to my retirement plan?')\n",
        "print('Retrieval_qa method:', query_method_2['result']) #retrieval qa method\n",
        "print('\\n')\n",
        "print('***********************\\n')\n",
        "query_method_3 = vectorstore_index_creator('Can I add beneficiary to my retirement plan?')\n",
        "print('Vectorstore Index Creator:', query_method_3) #vectorstore index creator\n",
        "print('\\n')\n",
        "print('***********************\\n')\n",
        "query_method_3_wparams = vectorstore_index_creator_wparams('Can I add beneficiary to my retirement plan?')\n",
        "print('Vectorstore Index Creator with params:', query_method_3_wparams) #vectorstore index creator with parameters\n",
        "print('\\n')\n",
        "print('***********************\\n')"
      ],
      "metadata": {
        "colab": {
          "base_uri": "https://localhost:8080/"
        },
        "id": "yjQ_dUWwGSpr",
        "outputId": "6561c6f2-edae-4931-cbfd-a29fed72c5c7"
      },
      "execution_count": 44,
      "outputs": [
        {
          "output_type": "stream",
          "name": "stdout",
          "text": [
            "Question: Can I add beneficiary to my retirement plan?\n",
            "Following is the response from different method\n",
            "***********************\n",
            "\n",
            "Load_aq_chain method:  Yes, you can add a beneficiary to your retirement plan. It is important to regularly review and update your beneficiaries to ensure that your assets are distributed according to your wishes. Contact your plan administrator for more information on how to add a beneficiary.\n",
            "\n",
            "\n",
            "***********************\n",
            "\n",
            "Retrieval_qa method:  Yes, you can add a beneficiary to your retirement plan. However, if you are employed with another publically funded retirement system, CalPERS will not be required to pay the Retired Death Benefit. It is advisable to retire from both systems concurrently if you wish to leave a monthly death benefit to your beneficiary.\n",
            "\n",
            "\n",
            "***********************\n",
            "\n",
            "Vectorstore Index Creator:  Yes, you can add a beneficiary to your retirement plan. However, if you pass away after retiring, the lump-sum Retired Death Benefit will only be paid by the system you were employed with last. If your last employment was with another publicly funded retirement system, CalPERS will not be required to pay the benefit. \n",
            "\n",
            "\n",
            "***********************\n",
            "\n",
            "Vectorstore Index Creator with params:  Yes, you can add a beneficiary to your retirement plan. However, if you are a member of CalPERS and become ill, you must retire from CalPERS and choose an option that provides a post-retirement monthly death benefit. Additionally, it is advisable to retire from both systems concurrently. If you die after retiring, a lump-sum Retired Death Benefit may be payable to your beneficiary, but it will be paid by whichever system you were employed with last. If your last employment was with another publicly funded retirement system, CalPERS will not be required to pay the Retired Death Benefit.\n",
            "\n",
            "\n",
            "***********************\n",
            "\n"
          ]
        }
      ]
    },
    {
      "cell_type": "code",
      "source": [
        "# method - 4 conversational retrieval chain takes two argument, one is questions and other is the follow-up question to demonstrate\n",
        "# chat history\n",
        "query_method_4, follow_answer = conversational_retrieval_chain_result('Can I add beneficiary to my retirement plan?', 'who are all can be the beneficiary?')\n",
        "print('Conversational Retrieval Chain Result:', query_method_4)\n",
        "print('Follow-up question:who are all can be the beneficiary?')\n",
        "print('conversational Retrieval Chain Result Follow-up answer:', follow_answer)"
      ],
      "metadata": {
        "colab": {
          "base_uri": "https://localhost:8080/"
        },
        "id": "0wjIpBrBCiB7",
        "outputId": "4401c7b4-d270-4db3-f3d1-9dedfec8eae9"
      },
      "execution_count": 45,
      "outputs": [
        {
          "output_type": "stream",
          "name": "stdout",
          "text": [
            "Conversational Retrieval Chain Result:  Yes, you can add a beneficiary to your retirement plan, but if you become ill and wish to leave a monthly death benefit to anyone, you must retire from CalPERS and choose an option that provides a post-retirement monthly death benefit. Additionally, it is advisable to retire from both systems concurrently to ensure the post-retirement death benefits are available.\n",
            "Follow-up question:who are all can be the beneficiary?\n",
            "conversational Retrieval Chain Result Follow-up answer:  The beneficiary for your retirement plan can be anyone you choose, such as a spouse, child, or other designated individual.\n"
          ]
        }
      ]
    }
  ]
}